{
 "cells": [
  {
   "cell_type": "markdown",
   "id": "d34f8dd9-ee95-44e8-a2df-758ba56c0770",
   "metadata": {},
   "source": [
    "# Arctic Regions Geospatial Wrangling"
   ]
  },
  {
   "cell_type": "code",
   "execution_count": 3,
   "id": "d1497e35-c278-4e7d-9ae3-46b4d5bbc679",
   "metadata": {
    "tags": []
   },
   "outputs": [],
   "source": [
    "# Import libraries\n",
    "import os\n",
    "\n",
    "import pandas as pd\n",
    "from pandas.api.types import is_string_dtype, is_numeric_dtype\n",
    "import geopandas as gpd\n",
    "import matplotlib.pyplot as plt\n",
    "from shapely.geometry import box"
   ]
  },
  {
   "cell_type": "code",
   "execution_count": 4,
   "id": "0dcab037-5af2-4c95-b469-f1e3548b5f80",
   "metadata": {
    "tags": []
   },
   "outputs": [],
   "source": [
    "# Load data\n",
    "df = gpd.read_file(os.path.join('data','arctic_communities.geojson'))"
   ]
  },
  {
   "cell_type": "code",
   "execution_count": 6,
   "id": "0df81639-7302-4543-9f3b-17e3e113cd3a",
   "metadata": {
    "tags": []
   },
   "outputs": [
    {
     "data": {
      "text/html": [
       "<div>\n",
       "<style scoped>\n",
       "    .dataframe tbody tr th:only-of-type {\n",
       "        vertical-align: middle;\n",
       "    }\n",
       "\n",
       "    .dataframe tbody tr th {\n",
       "        vertical-align: top;\n",
       "    }\n",
       "\n",
       "    .dataframe thead th {\n",
       "        text-align: right;\n",
       "    }\n",
       "</style>\n",
       "<table border=\"1\" class=\"dataframe\">\n",
       "  <thead>\n",
       "    <tr style=\"text-align: right;\">\n",
       "      <th></th>\n",
       "      <th>admin</th>\n",
       "      <th>country</th>\n",
       "      <th>n_communities</th>\n",
       "      <th>geometry</th>\n",
       "    </tr>\n",
       "  </thead>\n",
       "  <tbody>\n",
       "    <tr>\n",
       "      <th>0</th>\n",
       "      <td>United States of America</td>\n",
       "      <td>US</td>\n",
       "      <td>115</td>\n",
       "      <td>MULTIPOLYGON (((-132.74687 56.52568, -132.7576...</td>\n",
       "    </tr>\n",
       "    <tr>\n",
       "      <th>1</th>\n",
       "      <td>United Kingdom</td>\n",
       "      <td>GB</td>\n",
       "      <td>96</td>\n",
       "      <td>MULTIPOLYGON (((-2.66768 51.62300, -2.74214 51...</td>\n",
       "    </tr>\n",
       "    <tr>\n",
       "      <th>2</th>\n",
       "      <td>Sweden</td>\n",
       "      <td>SE</td>\n",
       "      <td>133</td>\n",
       "      <td>MULTIPOLYGON (((19.07646 57.83594, 18.99375 57...</td>\n",
       "    </tr>\n",
       "    <tr>\n",
       "      <th>3</th>\n",
       "      <td>Russia</td>\n",
       "      <td>RU</td>\n",
       "      <td>774</td>\n",
       "      <td>MULTIPOLYGON (((145.88154 43.45952, 145.89561 ...</td>\n",
       "    </tr>\n",
       "    <tr>\n",
       "      <th>4</th>\n",
       "      <td>Norway</td>\n",
       "      <td>NO</td>\n",
       "      <td>48</td>\n",
       "      <td>MULTIPOLYGON (((20.62217 69.03687, 20.49199 69...</td>\n",
       "    </tr>\n",
       "  </tbody>\n",
       "</table>\n",
       "</div>"
      ],
      "text/plain": [
       "                      admin country  n_communities  \\\n",
       "0  United States of America      US            115   \n",
       "1            United Kingdom      GB             96   \n",
       "2                    Sweden      SE            133   \n",
       "3                    Russia      RU            774   \n",
       "4                    Norway      NO             48   \n",
       "\n",
       "                                            geometry  \n",
       "0  MULTIPOLYGON (((-132.74687 56.52568, -132.7576...  \n",
       "1  MULTIPOLYGON (((-2.66768 51.62300, -2.74214 51...  \n",
       "2  MULTIPOLYGON (((19.07646 57.83594, 18.99375 57...  \n",
       "3  MULTIPOLYGON (((145.88154 43.45952, 145.89561 ...  \n",
       "4  MULTIPOLYGON (((20.62217 69.03687, 20.49199 69...  "
      ]
     },
     "execution_count": 6,
     "metadata": {},
     "output_type": "execute_result"
    }
   ],
   "source": [
    "# Display the first 5 rows of the data frame\n",
    "df.head()"
   ]
  },
  {
   "cell_type": "code",
   "execution_count": 8,
   "id": "d06b1d92-f2bc-44e4-bcb9-be2c8857c33f",
   "metadata": {
    "tags": []
   },
   "outputs": [
    {
     "data": {
      "text/plain": [
       "0     MultiPolygon\n",
       "1     MultiPolygon\n",
       "2     MultiPolygon\n",
       "3     MultiPolygon\n",
       "4     MultiPolygon\n",
       "5     MultiPolygon\n",
       "6          Polygon\n",
       "7          Polygon\n",
       "8     MultiPolygon\n",
       "9     MultiPolygon\n",
       "10    MultiPolygon\n",
       "11    MultiPolygon\n",
       "12    MultiPolygon\n",
       "13    MultiPolygon\n",
       "14         Polygon\n",
       "dtype: object"
      ]
     },
     "execution_count": 8,
     "metadata": {},
     "output_type": "execute_result"
    }
   ],
   "source": [
    "# Determine the geometry type of each row\n",
    "df.geom_type"
   ]
  },
  {
   "cell_type": "code",
   "execution_count": 34,
   "id": "57329630-a3ab-483c-9472-c0e417420944",
   "metadata": {
    "tags": []
   },
   "outputs": [],
   "source": [
    "df = df.explode(column='geometry', index_parts=False).reset_index()"
   ]
  },
  {
   "cell_type": "code",
   "execution_count": 35,
   "id": "3f197a6b-7dba-4fd4-b131-329d9b45d470",
   "metadata": {
    "tags": []
   },
   "outputs": [
    {
     "data": {
      "text/plain": [
       "array(['Polygon'], dtype=object)"
      ]
     },
     "execution_count": 35,
     "metadata": {},
     "output_type": "execute_result"
    }
   ],
   "source": [
    "df.geom_type.unique()"
   ]
  },
  {
   "cell_type": "code",
   "execution_count": 44,
   "id": "cdf30d6f-60a7-45bd-98e8-664be2cdb736",
   "metadata": {
    "tags": []
   },
   "outputs": [
    {
     "data": {
      "text/plain": [
       "geopandas.geodataframe.GeoDataFrame"
      ]
     },
     "execution_count": 44,
     "metadata": {},
     "output_type": "execute_result"
    }
   ],
   "source": [
    "type(df.iloc[[0]])"
   ]
  },
  {
   "cell_type": "code",
   "execution_count": 45,
   "id": "ed5960b9-e188-4a55-8511-4cfc906a8b5e",
   "metadata": {
    "tags": []
   },
   "outputs": [
    {
     "data": {
      "text/plain": [
       "geopandas.geoseries.GeoSeries"
      ]
     },
     "execution_count": 45,
     "metadata": {},
     "output_type": "execute_result"
    }
   ],
   "source": [
    "type(df.geometry.iloc[[0]])"
   ]
  },
  {
   "cell_type": "code",
   "execution_count": 48,
   "id": "3dbcee86-ce98-4f4e-9865-03b23118493f",
   "metadata": {
    "tags": []
   },
   "outputs": [
    {
     "data": {
      "text/plain": [
       "0    56.511035\n",
       "Name: miny, dtype: float64"
      ]
     },
     "execution_count": 48,
     "metadata": {},
     "output_type": "execute_result"
    }
   ],
   "source": [
    "df.iloc[[0]]['geometry'].bounds[\"miny\"]"
   ]
  },
  {
   "cell_type": "code",
   "execution_count": 49,
   "id": "d97c1815-8d8a-4df0-89e5-9b5c093d9e83",
   "metadata": {
    "tags": []
   },
   "outputs": [],
   "source": [
    "def min_y(geodf_row):\n",
    "    return geodf_row.geometry.bounds[1]"
   ]
  },
  {
   "cell_type": "code",
   "execution_count": 54,
   "id": "76ecf27b-bdee-4570-b9e1-3610946ab059",
   "metadata": {
    "tags": []
   },
   "outputs": [],
   "source": [
    "df['miny'] = df.apply(min_y, axis=1)"
   ]
  },
  {
   "cell_type": "code",
   "execution_count": 55,
   "id": "f8ba7c2f-e7ad-4f23-ad7b-bf428a8908e6",
   "metadata": {
    "tags": []
   },
   "outputs": [
    {
     "data": {
      "text/html": [
       "<div>\n",
       "<style scoped>\n",
       "    .dataframe tbody tr th:only-of-type {\n",
       "        vertical-align: middle;\n",
       "    }\n",
       "\n",
       "    .dataframe tbody tr th {\n",
       "        vertical-align: top;\n",
       "    }\n",
       "\n",
       "    .dataframe thead th {\n",
       "        text-align: right;\n",
       "    }\n",
       "</style>\n",
       "<table border=\"1\" class=\"dataframe\">\n",
       "  <thead>\n",
       "    <tr style=\"text-align: right;\">\n",
       "      <th></th>\n",
       "      <th>index</th>\n",
       "      <th>admin</th>\n",
       "      <th>country</th>\n",
       "      <th>n_communities</th>\n",
       "      <th>geometry</th>\n",
       "      <th>miny</th>\n",
       "    </tr>\n",
       "  </thead>\n",
       "  <tbody>\n",
       "    <tr>\n",
       "      <th>0</th>\n",
       "      <td>0</td>\n",
       "      <td>United States of America</td>\n",
       "      <td>US</td>\n",
       "      <td>115</td>\n",
       "      <td>POLYGON ((-132.74687 56.52568, -132.75762 56.5...</td>\n",
       "      <td>56.511035</td>\n",
       "    </tr>\n",
       "    <tr>\n",
       "      <th>1</th>\n",
       "      <td>0</td>\n",
       "      <td>United States of America</td>\n",
       "      <td>US</td>\n",
       "      <td>115</td>\n",
       "      <td>POLYGON ((-132.77988 56.24727, -132.83096 56.2...</td>\n",
       "      <td>56.244141</td>\n",
       "    </tr>\n",
       "    <tr>\n",
       "      <th>2</th>\n",
       "      <td>0</td>\n",
       "      <td>United States of America</td>\n",
       "      <td>US</td>\n",
       "      <td>115</td>\n",
       "      <td>POLYGON ((-134.31274 58.22891, -134.31987 58.2...</td>\n",
       "      <td>58.204102</td>\n",
       "    </tr>\n",
       "    <tr>\n",
       "      <th>3</th>\n",
       "      <td>0</td>\n",
       "      <td>United States of America</td>\n",
       "      <td>US</td>\n",
       "      <td>115</td>\n",
       "      <td>POLYGON ((-145.11851 60.33711, -145.15049 60.3...</td>\n",
       "      <td>60.312646</td>\n",
       "    </tr>\n",
       "    <tr>\n",
       "      <th>4</th>\n",
       "      <td>0</td>\n",
       "      <td>United States of America</td>\n",
       "      <td>US</td>\n",
       "      <td>115</td>\n",
       "      <td>POLYGON ((-144.56563 59.81841, -144.61357 59.8...</td>\n",
       "      <td>59.812646</td>\n",
       "    </tr>\n",
       "  </tbody>\n",
       "</table>\n",
       "</div>"
      ],
      "text/plain": [
       "   index                     admin country  n_communities  \\\n",
       "0      0  United States of America      US            115   \n",
       "1      0  United States of America      US            115   \n",
       "2      0  United States of America      US            115   \n",
       "3      0  United States of America      US            115   \n",
       "4      0  United States of America      US            115   \n",
       "\n",
       "                                            geometry       miny  \n",
       "0  POLYGON ((-132.74687 56.52568, -132.75762 56.5...  56.511035  \n",
       "1  POLYGON ((-132.77988 56.24727, -132.83096 56.2...  56.244141  \n",
       "2  POLYGON ((-134.31274 58.22891, -134.31987 58.2...  58.204102  \n",
       "3  POLYGON ((-145.11851 60.33711, -145.15049 60.3...  60.312646  \n",
       "4  POLYGON ((-144.56563 59.81841, -144.61357 59.8...  59.812646  "
      ]
     },
     "execution_count": 55,
     "metadata": {},
     "output_type": "execute_result"
    }
   ],
   "source": [
    "df.head()"
   ]
  },
  {
   "cell_type": "code",
   "execution_count": null,
   "id": "14bdd914-edea-43e3-a06e-2a230140630a",
   "metadata": {},
   "outputs": [],
   "source": []
  }
 ],
 "metadata": {
  "kernelspec": {
   "display_name": "Anaconda 3 (Base)",
   "language": "python",
   "name": "base"
  },
  "language_info": {
   "codemirror_mode": {
    "name": "ipython",
    "version": 3
   },
   "file_extension": ".py",
   "mimetype": "text/x-python",
   "name": "python",
   "nbconvert_exporter": "python",
   "pygments_lexer": "ipython3",
   "version": "3.9.13"
  }
 },
 "nbformat": 4,
 "nbformat_minor": 5
}
