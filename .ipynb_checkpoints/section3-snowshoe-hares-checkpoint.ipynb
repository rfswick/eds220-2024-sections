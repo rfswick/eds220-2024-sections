{
 "cells": [
  {
   "cell_type": "markdown",
   "id": "a405fb7d-308c-4918-b0dc-6b827a6d774c",
   "metadata": {},
   "source": [
    "# Snowshoe hares at Bonanza Creek Experimental Forest"
   ]
  },
  {
   "cell_type": "markdown",
   "id": "67dc819d-bb36-4f36-9353-060f0b3025b0",
   "metadata": {},
   "source": [
    "This discussion section will guide you through exploring data about snowshoe hares in the (Lepus americanus) in the Bonanza Creek Experimental Forest located in Alaska, USA. In this discussion section, you will:\n",
    "\n",
    "- Practice markdown syntax for creating tables and inserting images\n",
    "- Practice detecting and cleaning messy data\n",
    "- Use `groupby()` to calculate summary statistics by groups\n",
    "- Select, clean, and comment your code to create a condensed data analysis workflow"
   ]
  },
  {
   "cell_type": "markdown",
   "id": "f37826d2-6c07-4593-977a-259453b1c373",
   "metadata": {},
   "source": [
    "## About the Data\n",
    "\n",
    "For these exercises we will use data about Snowshoe hares (Lepus americanus) in the Bonanza Creek Experimental Forest.\n",
    "\n",
    "This dataset is stored in the Environmental Data Initiative (EDI) data repository. This is a huge data repository committed to make data Findable, Accessible, Interoperable, and Reusable (FAIR). It is the main repository for all the data associated to the Long Term Ecological Research Network (LTER)."
   ]
  },
  {
   "cell_type": "markdown",
   "id": "ef85c483-458c-4224-9aa3-caae8715be1c",
   "metadata": {},
   "source": [
    "## Archive Exploration\n",
    "\n",
    "a. Take some time to look through the dataset’s description in EDI and click around. Discuss the following questions with your team:\n",
    "\n",
    "b. What is this data about?\n",
    "\n",
    "   i. During what time frame were the observations in the dataset collected?\n",
    "   \n",
    "  ii. Does the dataset contain sensitive data?\n",
    "  \n",
    " iii. Is there a publication associated with this dataset?\n",
    " \n",
    "  iv. In your notebook: use a markdown cell to add a brief description of the dataset, including a citation,   date of access, and a link to the archive.\n",
    "\n",
    "c. Back in the EDI repository, click on View Full Metadata to access more information if you haven’t done so already. Go to the “Detailed Metadata” section and click on “Data Entities”. Take some time to look at the descriptions for the dataset’s columns."
   ]
  },
  {
   "cell_type": "markdown",
   "id": "876a5c5c-b5fc-4fae-ba8a-138cc3787413",
   "metadata": {},
   "source": [
    "## Adding an Image\n",
    "Back in your notebook, follow these steps to add an image of a hare using a URL:\n",
    "\n",
    "1. Go to this link.\n",
    "\n",
    "2. Get the URL of the hare image. To do this:\n",
    "\n",
    "- hover over the image –> right click –> “Copy Image Address”.\n",
    "\n",
    "3. At the end of the markdown cell with the dataset description, use markdown sytanx to add the image from its URL:\n",
    "\n",
    "![image description](https://upload.wikimedia.org/wikipedia/commons/8/8a/SNOWSHOE_HARE_%28Lepus_americanus%29_%285-28-2015%29_quoddy_head%2C_washington_co%2C_maine_-01_%2818988734889%29.jpg)\n",
    "\n",
    "Photo Source: https://www.flickr.com/photos/sloalan/18988734889/"
   ]
  },
  {
   "cell_type": "markdown",
   "id": "1460b6bb-6066-447e-a4dc-6f8a12a3fdf2",
   "metadata": {},
   "source": [
    "## Data Loading and Preliminary Exploration\n"
   ]
  },
  {
   "cell_type": "code",
   "execution_count": 6,
   "id": "128534cd-55f2-4dcd-a2e8-91f8be2d9cb0",
   "metadata": {
    "tags": []
   },
   "outputs": [],
   "source": [
    "# load libraries\n",
    "import pandas as pd\n",
    "import numpy as np\n",
    "\n",
    "# Read in data\n",
    "hares = pd.read_csv('https://portal.edirepository.org/nis/dataviewer?packageid=knb-lter-bnz.55.22&entityid=f01f5d71be949b8c700b6ecd1c42c701')"
   ]
  },
  {
   "cell_type": "code",
   "execution_count": null,
   "id": "903853c5-410f-4afe-b359-ffa343b6bd09",
   "metadata": {},
   "outputs": [],
   "source": []
  }
 ],
 "metadata": {
  "kernelspec": {
   "display_name": "Anaconda 3 (Base)",
   "language": "python",
   "name": "base"
  },
  "language_info": {
   "codemirror_mode": {
    "name": "ipython",
    "version": 3
   },
   "file_extension": ".py",
   "mimetype": "text/x-python",
   "name": "python",
   "nbconvert_exporter": "python",
   "pygments_lexer": "ipython3",
   "version": "3.9.13"
  }
 },
 "nbformat": 4,
 "nbformat_minor": 5
}
