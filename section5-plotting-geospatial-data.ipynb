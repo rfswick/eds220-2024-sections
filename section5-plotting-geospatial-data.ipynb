{
 "cells": [
  {
   "cell_type": "markdown",
   "id": "56b76a7a-512a-40b1-b2b7-a2d80eaf595e",
   "metadata": {},
   "source": [
    "# Plotting Geospatial Data\n",
    "\n",
    "In this discussion section you will wrangle data about earthquakes and practice:\n",
    "\n",
    "Breaking down a question into accessible data wrangling steps\n",
    "Importing and plotting differnt types of geospatial data\n",
    "Finding additional guidance online to carry out your data wrangling plans\n"
   ]
  }
 ],
 "metadata": {
  "kernelspec": {
   "display_name": "Anaconda 3 (Base)",
   "language": "python",
   "name": "base"
  },
  "language_info": {
   "codemirror_mode": {
    "name": "ipython",
    "version": 3
   },
   "file_extension": ".py",
   "mimetype": "text/x-python",
   "name": "python",
   "nbconvert_exporter": "python",
   "pygments_lexer": "ipython3",
   "version": "3.9.13"
  }
 },
 "nbformat": 4,
 "nbformat_minor": 5
}
